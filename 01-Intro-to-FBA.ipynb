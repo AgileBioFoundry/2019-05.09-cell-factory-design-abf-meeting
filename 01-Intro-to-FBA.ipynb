{
 "cells": [
  {
   "cell_type": "markdown",
   "metadata": {
    "toc": true
   },
   "source": [
    "<h1>Table of Contents<span class=\"tocSkip\"></span></h1>\n",
    "<div class=\"toc\"><ul class=\"toc-item\"><li><span><a href=\"#Introduction-to-Jupyter-notebook-and-Binder\" data-toc-modified-id=\"Introduction-to-Jupyter-notebook-and-Binder-1\"><span class=\"toc-item-num\">1&nbsp;&nbsp;</span>Introduction to Jupyter notebook and Binder</a></span><ul class=\"toc-item\"><li><span><a href=\"#https://tinyurl.com/cell-factory-abf-meeting\" data-toc-modified-id=\"https://tinyurl.com/cell-factory-abf-meeting-1.1\"><span class=\"toc-item-num\">1.1&nbsp;&nbsp;</span><a href=\"https://tinyurl.com/cell-factory-abf-meeting\" target=\"_blank\">https://tinyurl.com/cell-factory-abf-meeting</a></a></span></li></ul></li><li><span><a href=\"#ABC-model-of-metabolism\" data-toc-modified-id=\"ABC-model-of-metabolism-2\"><span class=\"toc-item-num\">2&nbsp;&nbsp;</span>ABC model of metabolism</a></span><ul class=\"toc-item\"><li><span><a href=\"#Implementation-of-the-ABC-model-using-Cobrapy\" data-toc-modified-id=\"Implementation-of-the-ABC-model-using-Cobrapy-2.1\"><span class=\"toc-item-num\">2.1&nbsp;&nbsp;</span>Implementation of the ABC model using Cobrapy</a></span></li></ul></li><li><span><a href=\"#Steady-state-analysis-of-the-ABC-model\" data-toc-modified-id=\"Steady-state-analysis-of-the-ABC-model-3\"><span class=\"toc-item-num\">3&nbsp;&nbsp;</span>Steady state analysis of the ABC model</a></span></li><li><span><a href=\"#Cell-factory-design-questions-for-the-ABC-model\" data-toc-modified-id=\"Cell-factory-design-questions-for-the-ABC-model-4\"><span class=\"toc-item-num\">4&nbsp;&nbsp;</span>Cell factory design questions for the ABC model</a></span><ul class=\"toc-item\"><li><span><a href=\"#How-can-we-use-a-model-to-predict-the-optimal-theoretical-growth-rate?\" data-toc-modified-id=\"How-can-we-use-a-model-to-predict-the-optimal-theoretical-growth-rate?-4.1\"><span class=\"toc-item-num\">4.1&nbsp;&nbsp;</span>How can we use a model to predict the optimal theoretical growth rate?</a></span><ul class=\"toc-item\"><li><span><a href=\"#Cobrapy-implementation-of-the-optimization-problem\" data-toc-modified-id=\"Cobrapy-implementation-of-the-optimization-problem-4.1.1\"><span class=\"toc-item-num\">4.1.1&nbsp;&nbsp;</span>Cobrapy implementation of the optimization problem</a></span></li><li><span><a href=\"#We-can-also-visualize-the-fluxes-on-the-network\" data-toc-modified-id=\"We-can-also-visualize-the-fluxes-on-the-network-4.1.2\"><span class=\"toc-item-num\">4.1.2&nbsp;&nbsp;</span>We can also visualize the fluxes on the network</a></span></li></ul></li><li><span><a href=\"#How-can-we-use-a-model-to-predict-the-optimal-bioproduct-yield?\" data-toc-modified-id=\"How-can-we-use-a-model-to-predict-the-optimal-bioproduct-yield?-4.2\"><span class=\"toc-item-num\">4.2&nbsp;&nbsp;</span>How can we use a model to predict the optimal bioproduct yield?</a></span></li><li><span><a href=\"#How-can-we-model-the-effect-of-altering-environmental-conditions-on-bioproduct-yield?\" data-toc-modified-id=\"How-can-we-model-the-effect-of-altering-environmental-conditions-on-bioproduct-yield?-4.3\"><span class=\"toc-item-num\">4.3&nbsp;&nbsp;</span>How can we model the effect of altering environmental conditions on bioproduct yield?</a></span></li><li><span><a href=\"#How-can-we-model-the-effect-of-genetic-perturbations-on-bioproduct-yield?\" data-toc-modified-id=\"How-can-we-model-the-effect-of-genetic-perturbations-on-bioproduct-yield?-4.4\"><span class=\"toc-item-num\">4.4&nbsp;&nbsp;</span>How can we model the effect of genetic perturbations on bioproduct yield?</a></span></li><li><span><a href=\"#How-can-we-model-the-tradeoff-between-growth-rate-and-bioproduct-yield?\" data-toc-modified-id=\"How-can-we-model-the-tradeoff-between-growth-rate-and-bioproduct-yield?-4.5\"><span class=\"toc-item-num\">4.5&nbsp;&nbsp;</span>How can we model the tradeoff between growth rate and bioproduct yield?</a></span><ul class=\"toc-item\"><li><span><a href=\"#Modeling-the-effect-of-the-gene-perturbation-on-growth-rate-and-bioproduct-yield-under-low-$E$-robic-conditions\" data-toc-modified-id=\"Modeling-the-effect-of-the-gene-perturbation-on-growth-rate-and-bioproduct-yield-under-low-$E$-robic-conditions-4.5.1\"><span class=\"toc-item-num\">4.5.1&nbsp;&nbsp;</span>Modeling the effect of the gene perturbation on growth rate and bioproduct yield under low $E$-robic conditions</a></span></li></ul></li></ul></li><li><span><a href=\"#Visualizing-the-tradeoff-between-growth-rate-and-bioproduct-yield-with-the--Production-envelope\" data-toc-modified-id=\"Visualizing-the-tradeoff-between-growth-rate-and-bioproduct-yield-with-the--Production-envelope-5\"><span class=\"toc-item-num\">5&nbsp;&nbsp;</span>Visualizing the tradeoff between growth rate and bioproduct yield with the  Production envelope</a></span><ul class=\"toc-item\"><li><span><a href=\"#Production-envelope-for-wild-type-ABC-model\" data-toc-modified-id=\"Production-envelope-for-wild-type-ABC-model-5.1\"><span class=\"toc-item-num\">5.1&nbsp;&nbsp;</span>Production envelope for wild-type ABC model</a></span></li><li><span><a href=\"#Production-envelope-for-genetic-perturbation-and--environmental-condition\" data-toc-modified-id=\"Production-envelope-for-genetic-perturbation-and--environmental-condition-5.2\"><span class=\"toc-item-num\">5.2&nbsp;&nbsp;</span>Production envelope for genetic perturbation and  environmental condition</a></span></li><li><span><a href=\"#What-if-we-vary-E-and-D-simultaneously?\" data-toc-modified-id=\"What-if-we-vary-E-and-D-simultaneously?-5.3\"><span class=\"toc-item-num\">5.3&nbsp;&nbsp;</span>What if we vary E and D simultaneously?</a></span></li></ul></li><li><span><a href=\"#Using-Flux-variability-analysis-to-study-the-steady-state-behavior\" data-toc-modified-id=\"Using-Flux-variability-analysis-to-study-the-steady-state-behavior-6\"><span class=\"toc-item-num\">6&nbsp;&nbsp;</span>Using Flux variability analysis to study the steady-state behavior</a></span><ul class=\"toc-item\"><li><span><a href=\"#How-does-FVA-work?\" data-toc-modified-id=\"How-does-FVA-work?-6.1\"><span class=\"toc-item-num\">6.1&nbsp;&nbsp;</span>How does FVA work?</a></span></li><li><span><a href=\"#What-does-flux-variablity-analysis-do?\" data-toc-modified-id=\"What-does-flux-variablity-analysis-do?-6.2\"><span class=\"toc-item-num\">6.2&nbsp;&nbsp;</span>What does flux variablity analysis do?</a></span></li></ul></li></ul></div>"
   ]
  },
  {
   "cell_type": "markdown",
   "metadata": {},
   "source": [
    "# Introduction to Jupyter notebook and Binder\n",
    "\n",
    "\n",
    "## [https://tinyurl.com/cell-factory-abf-meeting](https://tinyurl.com/cell-factory-abf-meeting)"
   ]
  },
  {
   "cell_type": "markdown",
   "metadata": {},
   "source": [
    "# ABC model of metabolism\n",
    "\n",
    "Everything we talk about here extends to genome-scale models, and the only reason we are discussing this simple model is so that the entire metabolism fits in your head, and you can gain intuitions about how the genome-scale methods actually work.\n",
    "\n",
    "Imagine we have a complete model of all the biochemical reactions in the cell, so nutrients $A$ and $E$ enter the cell, bioproducts $D$ and $F$ leave the cell.  There is a reaction that takes $A$ to $C$ to $D$ and another reaction that takes $A$ to $B$ then either 2 moles of $B$ recombine to form $C$ and $F$, or $B$ combines with $E$ to form 2 moles of $D$.\n",
    "![ABC_network.png](ABC/Metabolic-network.JPG)\n"
   ]
  },
  {
   "cell_type": "markdown",
   "metadata": {},
   "source": [
    "The chemical equations for the ABC model are:\n",
    "\n",
    "$$\n",
    "\\begin{array}{lrcl}\n",
    " R_1: & & \\overset{v_1}{\\rightarrow} & A \\\\\n",
    " R_2: & A & \\overset{v_2}{\\rightarrow} & B \\\\\n",
    " R_3: & A & \\overset{v_3}{\\rightarrow} & C \\\\\n",
    " R_4: & B + E & \\overset{v_4}{\\rightarrow}& 2D\\\\\n",
    " R_5:  & &\\overset{v_5}{\\rightarrow} & E \\\\\n",
    " R_6: & 2B & \\overset{v_6}{\\rightarrow} & C + F \\\\\n",
    " R_7: & C & \\overset{v_7}{\\rightarrow} & D \\\\\n",
    " R_8: & D & \\overset{v_8}{\\rightarrow} &  \\\\\n",
    " R_9: & F & \\overset{v_9}{\\rightarrow} &  \\\\\n",
    "\\end{array}\n",
    "$$\n",
    "\n",
    "where $R_j$ are the reaction equations, the $v_j$ are the reaction rates, or fluxes, and the arrow direction indicates the reaction is irreversible.\n",
    "These chemical equations can also be represented mathematically as a Stoichiometric matrix $S$:\n",
    " \n",
    "$$\n",
    "S = \\left[ {\\begin{array}{cccccccccc}\n",
    "  & R_1 & R_2 & R_3 & R_4 & R_5 & R_6 & R_7 & R_8 & R_9 \\\\\n",
    "A & 1   & -1  & -1  & 0   & 0   & 0   & 0   & 0   & 0   \\\\\n",
    "B & 0   &  1  & 0   & -1  & 0   & -2  & 0   & 0   & 0   \\\\\n",
    "C & 0   &  0  & 1   & 0   & 0   & 1   & -1  & 0   & 0   \\\\\n",
    "D & 0   &  0  & 0   & 2   & 0   & 0   &  1  & -1  & 0   \\\\\n",
    "E & 0   &  0  & 0   & -1   & 1   & 0   &  0  & 0  & 0   \\\\\n",
    "F & 0   &  0  & 0   &  0   & 0   & 1   &  0  & 0  & -1   \\\\\n",
    "\\end{array}}\\right]\n",
    "$$\n",
    "\n",
    "where each column corresponds to a reaction, each row corresponds to a metabolite, and the element corresponds to the stoichiometry of each metabolite in that reaction. The number is negative if the metabolite is a reactant of the reaction, positive if it is a product of the reaction, and zero, otherwise.\n",
    "\n",
    "## Implementation of the ABC model using Cobrapy\n",
    "\n",
    "We can also represent this toy model in python using the cobrapy library"
   ]
  },
  {
   "cell_type": "code",
   "execution_count": null,
   "metadata": {
    "ExecuteTime": {
     "end_time": "2019-05-01T18:13:38.310817Z",
     "start_time": "2019-05-01T18:13:38.277987Z"
    }
   },
   "outputs": [],
   "source": [
    "import cobra\n",
    "\n",
    "# Define the model\n",
    "abc_model = cobra.Model('ABC_model')\n",
    "\n",
    "# create new metabolites\n",
    "A  = cobra.Metabolite('A',compartment='c')\n",
    "B  = cobra.Metabolite('B',compartment='c')\n",
    "C  = cobra.Metabolite('C',compartment='c')\n",
    "D  = cobra.Metabolite('D',compartment='c')\n",
    "E  = cobra.Metabolite('E',compartment='c')\n",
    "F  = cobra.Metabolite('F',compartment='c')\n",
    "\n",
    "# Add the new metabolites to the model\n",
    "abc_model.add_metabolites([A,B,C,D,E,F])\n",
    "\n",
    "# Create new reactions\n",
    "R_1 = cobra.Reaction('R_1')\n",
    "R_2 = cobra.Reaction('R_2')\n",
    "R_3 = cobra.Reaction('R_3')\n",
    "R_4 = cobra.Reaction('R_4')\n",
    "R_5 = cobra.Reaction('R_5')\n",
    "R_6 = cobra.Reaction('R_6')\n",
    "R_7 = cobra.Reaction('R_7')\n",
    "R_8 = cobra.Reaction('R_8')\n",
    "R_9 = cobra.Reaction('R_9')\n",
    "\n",
    "# Add reactions to the model\n",
    "abc_model.add_reactions([R_1, R_2, R_3, R_4, R_5, R_6, R_7, R_8, R_9])\n",
    "\n",
    "# Generate the stoichiometry from \n",
    "R_1.build_reaction_from_string('--> A')\n",
    "R_2.build_reaction_from_string('A --> B')\n",
    "R_3.build_reaction_from_string('A --> C')\n",
    "R_4.build_reaction_from_string('B + E --> 2 D')\n",
    "R_5.build_reaction_from_string('--> E')\n",
    "R_6.build_reaction_from_string('2 B --> C + F')\n",
    "R_7.build_reaction_from_string('C --> D')\n",
    "R_8.build_reaction_from_string('D -->')\n",
    "R_9.build_reaction_from_string('F -->')\n",
    "\n",
    "cobra.io.save_json_model(abc_model, 'ABC/ABC_model.json')\n",
    "cobra.util.array.create_stoichiometric_matrix(abc_model, \n",
    "                                              array_type='DataFrame').astype(int)"
   ]
  },
  {
   "cell_type": "markdown",
   "metadata": {},
   "source": [
    "As you can see, this is identical to the Stoichiometric matrix we defined above:\n",
    "\n",
    " \n",
    "$$\n",
    "S = \\left[ {\\begin{array}{cccccccccc}\n",
    "  & R_1 & R_2 & R_3 & R_4 & R_5 & R_6 & R_7 & R_8 & R_9 \\\\\n",
    "A & 1   & -1  & -1  & 0   & 0   & 0   & 0   & 0   & 0   \\\\\n",
    "B & 0   &  1  & 0   & -1  & 0   & -2  & 0   & 0   & 0   \\\\\n",
    "C & 0   &  0  & 1   & 0   & 0   & 1   & -1  & 0   & 0   \\\\\n",
    "D & 0   &  0  & 0   & 2   & 0   & 0   &  1  & -1  & 0   \\\\\n",
    "E & 0   &  0  & 0   & -1   & 1   & 0   &  0  & 0  & 0   \\\\\n",
    "F & 0   &  0  & 0   &  0   & 0   & 1   &  0  & 0  & -1   \\\\\n",
    "\\end{array}}\\right]\n",
    "$$\n"
   ]
  },
  {
   "cell_type": "markdown",
   "metadata": {},
   "source": [
    "# Steady state analysis of the ABC model\n",
    "\n",
    "![steady state pools of water](ABC/Pamukkale.jpg)\n",
    "\n",
    "Like the terraced pools of water in the geothermal hot springs of [Pamukkale, Turkey](https://rustytraveltrunk.com/pamukkale/), when the metabolic network is in steady state, the concentrations of the internal metabolites do not change. Therefore\n",
    "$$ \\frac{d\\vec{c}}{dt} = S\\cdot\\vec{v} = 0$$\n",
    "where $\\frac{d\\vec{c}}{dt}$ represents the change in metabolite concentrations with respect to time, $\\vec{v}$ represents the  reaction rates (also known as fluxes), and $S$ is the stoichiometric matrix.\n",
    "\n",
    "\n",
    "$$\n",
    "\\left[ {\\begin{array}{c}\n",
    "\\frac{dA}{dt} \\\\ \\frac{dB}{dt} \\\\ \\frac{dC}{dt} \\\\ \\frac{dD}{dt} \\\\ \\frac{dE}{dt} \\\\ \\frac{dF}{dt} \\\\\n",
    "\\end{array}}\\right] = \n",
    "S\\cdot\\vec{v} = \\left[ {\\begin{array}{cccccccccc}\n",
    "  & R_1 & R_2 & R_3 & R_4 & R_5 & R_6 & R_7 & R_8 & R_9 \\\\\n",
    "A & 1   & -1  & -1  & 0   & 0   & 0   & 0   & 0   & 0   \\\\\n",
    "B & 0   &  1  & 0   & -1  & 0   & -2  & 0   & 0   & 0   \\\\\n",
    "C & 0   &  0  & 1   & 0   & 0   & 1   & -1  & 0   & 0   \\\\\n",
    "D & 0   &  0  & 0   & 2   & 0   & 0   &  1  & -1  & 0   \\\\\n",
    "E & 0   &  0  & 0   & -1   & 1   & 0   &  0  & 0  & 0   \\\\\n",
    "F & 0   &  0  & 0   &  0   & 0   & 1   &  0  & 0  & -1   \\\\\n",
    "\\end{array}}\\right]\\cdot\\left[ {\\begin{array}{c}\n",
    "v_1 \\\\ v_2 \\\\ v_3 \\\\ v_4 \\\\ v_5 \\\\ v_6 \\\\ v_7 \\\\ v_8 \\\\ v_9 \\\\\n",
    "\\end{array}}\\right] = \\left[ {\\begin{array}{c}\n",
    "v_1 - v_2 - v_3 \\\\ v_2 - v_4 - 2v_6 \\\\ v_3 + v_6 - v_7 \\\\ 2v_4 + v_7 - v_8 \\\\ -v_4 + v_5 \\\\ v_6 - v_9 \\\\\n",
    "\\end{array}}\\right] = 0\n",
    "$$"
   ]
  },
  {
   "cell_type": "markdown",
   "metadata": {},
   "source": [
    "\n",
    "\n",
    "![ELMO](ABC/ELMO.JPG)\n",
    "\n",
    "For the ABC model, all feasible steady-state flux distributions can be decomposed into non-negative combinations of just 3 elementary modes. Although elementary modes are useful conceptual framework for analyzing small networks, they are not practical for genome-scale network analysis because the number of elementary modes increases exponentially with the size of the network.  Nevertheless, for this ABC model keeping in mind these three elementary modes will be helpful when solving the cell factory design problems below.\n"
   ]
  },
  {
   "cell_type": "markdown",
   "metadata": {},
   "source": [
    "# Cell factory design questions for the ABC model\n",
    "\n",
    "How can we use a model to predict:\n",
    "1. the optimal theoretical growth rate?\n",
    "2. the optimal bioproduct yield?\n",
    "3. the effect of modulating environmental conditions on bioproduct yield?\n",
    "4. the effect of genetic perturbations on bioproduct yield?\n",
    "5. the tradeoff between growth rate and bioproduct yield?\n",
    "\n",
    "\n",
    "## How can we use a model to predict the optimal theoretical growth rate?\n",
    "\n",
    "Suppose that the uptake rate of $A$ is limited to $10 \\frac{mmol}{hour}$, and let's imagine that $D$ is biomass.  We can assume the uptake rate is constant if we place the organism in a chemostat where we provide a carbon source at replacement rate.  What is the maximum growth rate achievable given the constraints of this network?  We can find the answer by solving the following optimization problem:\n",
    "\n",
    "$$\\begin{array}{llll}\n",
    "   & \\underset{\\vec{v}}{\\mbox{maximize}}   & v_{8}  & \\text{Cellular objective (growth)} \\\\\n",
    "  &  \\mbox{subject to}  & S\\cdot \\vec{v} = 0 & \\text{Balanced Steady-state} \\\\\n",
    "   & & 0 \\leq \\vec{v}  & \\text{Irreversible reactions} \\\\\n",
    "   & & v_1 \\leq 10  & \\text{Uptake rate is } 10  \\frac{mmol}{hour} \\\\\n",
    "\\end{array}$$\n",
    "\n",
    "### Cobrapy implementation of the optimization problem"
   ]
  },
  {
   "cell_type": "code",
   "execution_count": null,
   "metadata": {
    "ExecuteTime": {
     "end_time": "2019-05-01T18:21:59.236220Z",
     "start_time": "2019-05-01T18:21:59.203670Z"
    }
   },
   "outputs": [],
   "source": [
    "abc_model = cobra.io.load_json_model('ABC/ABC_model.json')  # Balanced steady state\n",
    "abc_model.objective = R_8                                   # Cellular objective (growth)\n",
    "for rxn in abc_model.reactions:\n",
    "    rxn.lower_bound = 0                                     # Irreversible reactions\n",
    "abc_model.reactions.R_1.upper_bound = 10                    # Uptake rate is 10 mmol/gDW/hour\n",
    "\n",
    "optimal_growth_rate = abc_model.optimize()                  # Find fluxes that maximize growth rate\n",
    "optimal_growth_rate"
   ]
  },
  {
   "cell_type": "markdown",
   "metadata": {},
   "source": [
    "### We can also visualize the fluxes on the network"
   ]
  },
  {
   "cell_type": "code",
   "execution_count": null,
   "metadata": {
    "ExecuteTime": {
     "end_time": "2019-05-01T18:23:14.506581Z",
     "start_time": "2019-05-01T18:23:14.473515Z"
    }
   },
   "outputs": [],
   "source": [
    "import escher\n",
    "reaction_scale = [ { 'type': 'min',  'color': '#c8c8c8', 'size': 12 },\n",
    "                   { 'type': 'mean', 'color': '#9696ff', 'size': 20 },\n",
    "                   { 'type': 'max',  'color': '#ff0000', 'size': 25 } ]\n",
    "escher.Builder( map_json       = 'ABC/ABC_map.json',\n",
    "                model          = abc_model,\n",
    "                reaction_data  = optimal_growth_rate.fluxes.to_dict(),\n",
    "                reaction_scale = reaction_scale\n",
    "              ).display_in_notebook()"
   ]
  },
  {
   "cell_type": "markdown",
   "metadata": {},
   "source": [
    "Notice that $R_1$ is a limiting reagent, or bottleneck. It doesn't matter how much $E$ is available, we can only convert $E$ to $D$ at the rate supplied to $B$, since they are stoichiometrically constrained by $R_4$ to be equal.  Notice also that this solution is just one of the elementary modes."
   ]
  },
  {
   "cell_type": "markdown",
   "metadata": {},
   "source": [
    "\n",
    "\n",
    "\n",
    "## How can we use a model to predict the optimal bioproduct yield?\n",
    "\n",
    "Since we are interested in microbial cell factories, let's think of $F$ as a high-value product.\n",
    "What happens to the flux distribution and the growth rate if we maximize the production of $F$?\n",
    "\n",
    "$$\\begin{array}{lllr}\n",
    "&    \\underset{\\vec{\\bf v}}{\\mbox{maximize}}   & v_9  & \\text{Engineering objective (Bioproduct)} \\\\\n",
    "&    \\mbox{subject to}  & S\\cdot v = 0   & \\text{Balanced steady-state}\\\\\n",
    "&    & 0 \\leq v    & \\text{Irreversible reactions}\\\\\n",
    "&    & v_1 \\leq 10 & \\text{Uptake rate is } 10 \\frac{mmol}{hour}\\\\\n",
    "\\end{array}$$"
   ]
  },
  {
   "cell_type": "code",
   "execution_count": null,
   "metadata": {
    "ExecuteTime": {
     "end_time": "2019-05-01T18:25:23.281747Z",
     "start_time": "2019-05-01T18:25:23.248233Z"
    }
   },
   "outputs": [],
   "source": [
    "abc_model = cobra.io.load_json_model('ABC/ABC_model.json')    # Balanced steady-state\n",
    "abc_model.objective = abc_model.reactions.R_9                 # Engineering objective\n",
    "for rxn in abc_model.reactions:\n",
    "    rxn.lower_bound = 0                                       # Irreversible reactions\n",
    "abc_model.reactions.R_1.upper_bound = 10                      # Uptake rate is 10 mmol/hour\n",
    "\n",
    "optimal_bioproduct_yield = abc_model.optimize()\n",
    "display(optimal_bioproduct_yield)\n",
    "escher.Builder( map_json       ='ABC/ABC_map.json',\n",
    "                model          = abc_model,\n",
    "                reaction_data  = optimal_bioproduct_yield.fluxes.to_dict(),\n",
    "                reaction_scale = reaction_scale\n",
    "              ).display_in_notebook()"
   ]
  },
  {
   "cell_type": "markdown",
   "metadata": {},
   "source": [
    " ## How can we model the effect of altering environmental conditions on bioproduct yield?\n",
    "\n",
    " We see from the previous exercise that if the cell wanted to produce the product, then there is a pathway that enables both growth and bioproduction.  But cells don't want to produce bioproducts, they just want to grow.  How can we align the cellular objective with our engineering objective? Well, by looking at the difference in flux distributions between optimal biomass growth and optimal bioproduct yield, it seems that there is a decision point at the production of $B$. To optimize growth, $B$ combines with $E$ to generate 2 moles of $D$. On the other hand to optimize bioproduct, 2 moles of $B$ split to form $C$ and $F$.   Perhaps we can alter the environmental conditions to induce bioproduction. In the ABC model, let's imagine that $E$ plays the role of oxygen in the metabolism of a facultative aerobe: having some makes the growth rate increase, but it is not strictly necessary for growth. What happens to the flux distribution if the cell tries to grow without $E$ (an-$E$-robically?)  Will this result in the desired pathway being utilized?\n",
    "\n",
    "$$\\begin{array}{ll}\n",
    "  &  \\underset{\\vec{\\bf v}}{\\mbox{maximize}}   & v_{8}   & \\text{Cellular objective (growth)} \\\\\n",
    "   & \\mbox{subject to}  & S\\cdot v = 0  & \\text{Balanced steady-state} \\\\\n",
    "   & & 0 \\leq v  & \\text{Irreversible reactions}\\\\\n",
    "   & & v_1 \\leq 10 & \\text{Uptake rate is } 10 \\frac{mmol}{hour} \\\\\n",
    "   & & v_5 \\leq 0  & \\text{An-$E$-robic environmental condition} \\\\\n",
    "\\end{array}$$\n"
   ]
  },
  {
   "cell_type": "code",
   "execution_count": null,
   "metadata": {
    "ExecuteTime": {
     "end_time": "2019-05-01T20:07:57.298472Z",
     "start_time": "2019-05-01T20:07:57.267424Z"
    }
   },
   "outputs": [],
   "source": [
    "abc_model = cobra.io.load_json_model('ABC/ABC_model.json')  # Stoichiometric matrix loaded\n",
    "abc_model.objective = R_8                                   # Cellular objective (growth)\n",
    "for rxn in abc_model.reactions:\n",
    "    rxn.lower_bound = 0                                     # Irreversible reactions\n",
    "abc_model.reactions.R_1.upper_bound = 10                    # Uptake rate is 10 mmol/hour\n",
    "abc_model.reactions.R_5.upper_bound = 0                     # An-E-robic environmental condition\n",
    "\n",
    "environment_solution = abc_model.optimize()                 # Effect of altering environment on bioproduct yield \n",
    "display(environment_solution)\n",
    "\n",
    "escher.Builder( map_json       ='ABC/ABC_map.json',\n",
    "                model          = abc_model,\n",
    "                reaction_data  = environment_solution.fluxes.to_dict(), \n",
    "                reaction_scale = reaction_scale,\n",
    "              ).display_in_notebook()"
   ]
  },
  {
   "cell_type": "markdown",
   "metadata": {},
   "source": [
    "No! The optimal flux distribution in the absence of $E$ is to convert $A$ to $C$ to $D$\n",
    "\n",
    "## How can we model the effect of genetic perturbations on bioproduct yield?\n",
    "\n",
    "As we saw in the previous exercise, even a simple model can generate counterintuitive results. Perhaps by knocking out the genes that enabled this alternate pathway, we can sculpt the metabolic network towards our objectives. \n",
    "\n",
    "$$\\begin{array}{lllr}\n",
    "  &  \\underset{\\vec{\\bf v}}{\\mbox{maximize}}   & v_{8}   & \\text{Cellular objective (growth)} \\\\\n",
    "   & \\mbox{subject to}  & S\\cdot v = 0  & \\text{Balanced steady-state} \\\\\n",
    "   & & 0 \\leq v  & \\text{Irreversible reactions}\\\\\n",
    "   & & v_1 \\leq 10 & \\text{Uptake rate is } 10 \\frac{mmol}{hour} \\\\  \n",
    "   & & v_3 \\leq 0  & \\text{Genetic perturbation} \\\\\n",
    "   & & v_5 \\leq 0  & \\text{An-$E$-robic environmental condition} \\\\\n",
    "\\end{array}$$\n"
   ]
  },
  {
   "cell_type": "code",
   "execution_count": null,
   "metadata": {
    "ExecuteTime": {
     "end_time": "2019-05-01T20:15:08.345689Z",
     "start_time": "2019-05-01T20:15:08.311374Z"
    }
   },
   "outputs": [],
   "source": [
    "abc_model = cobra.io.load_json_model('ABC/ABC_model.json')  # Stoichiometric matrix loaded\n",
    "abc_model.objective = R_8                                   # Cellular objective (growth)\n",
    "for rxn in abc_model.reactions:\n",
    "    rxn.lower_bound = 0                                     # Irreversible reactions\n",
    "abc_model.reactions.R_1.upper_bound = 10                    # Uptake rate is 10 mmol/hour\n",
    "abc_model.reactions.R_3.upper_bound = 0                     # Genetic perturbation\n",
    "abc_model.reactions.R_5.upper_bound = 0                     # An-E-robic environmental condition\n",
    "\n",
    "environment_and_ko_solution = abc_model.optimize()          # Find fluxes that balance steady-state \n",
    "\n",
    "display(environment_and_ko_solution)\n",
    "escher.Builder( map_json       ='ABC/ABC_map.json',\n",
    "                model          = abc_model,\n",
    "                reaction_data  = environment_and_ko_solution.fluxes.to_dict(), \n",
    "                reaction_scale = reaction_scale\n",
    "              ).display_in_notebook()"
   ]
  },
  {
   "cell_type": "markdown",
   "metadata": {},
   "source": [
    "## How can we model the tradeoff between growth rate and bioproduct yield?\n",
    "\n",
    "By knocking out $R_3$ and restricting ourselves to an-$E$-robic conditions, we are able to maximize bioproduct yield, but growth rate is pretty low.  Perhaps we can improve $E$-robic conditions and see how that affects the trade-off between growth rate and bioproduct yield.\n",
    "\n",
    "\n",
    "### Modeling the effect of the gene perturbation on growth rate and bioproduct yield under low $E$-robic conditions\n",
    "$$\\begin{array}{ll}\n",
    "  &  \\underset{\\vec{\\bf v}}{\\mbox{maximize}}   & v_{9}   & \\text{Engineering objective (bioproduct)} \\\\\n",
    "   & \\mbox{subject to}  & S\\cdot v = 0  & \\text{Balanced steady-state} \\\\\n",
    "   & & 0 \\leq v  & \\text{Irreversible reactions}\\\\\n",
    "   & & v_1 \\leq 10 & \\text{Uptake rate is 10 } \\frac{mmol}{hour} \\\\\n",
    "   & & v_3 \\leq 0  & \\text{Genetic perturbation} \\\\\n",
    "   & & v_5 \\leq 5  & \\text{Low $E$-robic environmental condition} \\\\\n",
    "\\end{array}$$\n"
   ]
  },
  {
   "cell_type": "code",
   "execution_count": null,
   "metadata": {
    "ExecuteTime": {
     "end_time": "2019-05-01T18:30:12.864325Z",
     "start_time": "2019-05-01T18:30:12.842074Z"
    }
   },
   "outputs": [],
   "source": [
    "abc_model = cobra.io.load_json_model('ABC/ABC_model.json')  # Stoichiometric matrix loaded\n",
    "abc_model.objective = R_8                                   # Cellular objective (growth)\n",
    "for rxn in abc_model.reactions:\n",
    "    rxn.lower_bound = 0                                     # Irreversible reactions\n",
    "abc_model.reactions.R_1.upper_bound = 10                    # Uptake rate is 10 mmol/hour\n",
    "abc_model.reactions.R_3.upper_bound = 0                     # Genetic perturbation\n",
    "abc_model.reactions.R_5.upper_bound = 5                     # An-E-robic environmental condition\n",
    "\n",
    "environment_solution = abc_model.optimize()                 # Find fluxes that balance steady-state \n",
    "display(environment_solution)\n",
    "\n",
    "escher.Builder( map_json       ='ABC/ABC_map.json',\n",
    "                model          = abc_model,\n",
    "                reaction_data  = environment_solution.fluxes.to_dict(), \n",
    "                reaction_scale = reaction_scale,\n",
    "              ).display_in_notebook()"
   ]
  },
  {
   "cell_type": "markdown",
   "metadata": {},
   "source": [
    "# Visualizing the tradeoff between growth rate and bioproduct yield with the  Production envelope\n",
    "\n",
    "We have discussed  the tradeoff between growth rate and bioproduct yield at an intuitive level, but we would like to extend our intuitions to genome-scale models.  One valuable way to visualize this tradeoff is with the production envelope.  \n",
    "\n",
    "Let's generate a production envelope for the original unperturbed ABC model \n",
    "\n",
    "## Production envelope for wild-type ABC model\n",
    "$$\\begin{array}{ll}\n",
    "\\text{For } i=0..20 & & & & \\\\\n",
    "  &  \\underset{\\vec{\\bf v}}{\\mbox{maximize/minimize}}   & v_{9}   & \\text{Engineering objective (bioproduct)} \\\\\n",
    "   & \\mbox{subject to}  & S\\cdot v = 0  & \\text{Balanced steady-state} \\\\\n",
    "   & & 0 \\leq v  & \\text{Irreversible reactions}\\\\\n",
    "   & & v_1 \\leq 10 & \\text{Uptake rate is 10 } \\frac{mmol}{hour} \\\\\n",
    "   & & v_8 = i & \\text{Growth rate is } i \\frac{mmol}{gDW\\cdot hour} \\\\\n",
    "\\end{array}$$\n"
   ]
  },
  {
   "cell_type": "code",
   "execution_count": null,
   "metadata": {
    "ExecuteTime": {
     "end_time": "2019-05-01T18:31:47.995049Z",
     "start_time": "2019-05-01T18:31:47.716939Z"
    }
   },
   "outputs": [],
   "source": [
    "%matplotlib inline\n",
    "from cameo.flux_analysis import phenotypic_phase_plane as production_envelope\n",
    "\n",
    "abc_model = cobra.io.load_json_model('ABC/ABC_model.json')  # Stoichiometric matrix loaded\n",
    "for rxn in abc_model.reactions:\n",
    "    rxn.lower_bound = 0                                     # Irreversible reactions\n",
    "abc_model.reactions.R_1.upper_bound = 10                    # Uptake rate is 10 mmol/hour\n",
    "\n",
    "result = production_envelope( abc_model,\n",
    "                              variables=[abc_model.reactions.R_8],  # Growth rate <= i\n",
    "                              objective=abc_model.reactions.R_9,\n",
    "                              points=21)    # Engineering objective (bioproduct)\n",
    "\n",
    "result_df = result.data_frame.rename( columns               = dict(R_8='growth_rate',\n",
    "                                      objective_upper_bound = 'bioproduct_maximum',\n",
    "                                objective_lower_bound       = 'bioproduct_minimum'))\n",
    "\n",
    "result.plot(title='Production envelope between bioproduct yield and growth rate for WT ABC model',\n",
    "           points=[(5,5), (20,0),(10,0)])\n"
   ]
  },
  {
   "cell_type": "markdown",
   "metadata": {},
   "source": []
  },
  {
   "cell_type": "markdown",
   "metadata": {},
   "source": [
    "## Production envelope for genetic perturbation and  environmental condition\n",
    "As we can see there is an interesting tradeoff between growth rate and bioproduct yield for the original unperturbed ABC model.  We see that growth is required for bioproduct formation, but bioproduct formation is not required for growth.  Also note that this production envelope indicates that the optimal bioproduct yield is not evolutionarily stable. A faster-growing mutant can outcompete our bioproduct-producing strain.  How does the production envelope for our engineered strain under low $E$-robic conditions look?\n",
    "\n",
    "$$\\begin{array}{ll}\n",
    "\\text{For } i=0..20 & & & & \\\\\n",
    "  &  \\underset{\\vec{\\bf v}}{\\mbox{maximize/minimize}}   & v_{9}   & \\text{Engineering objective (bioproduct)} \\\\\n",
    "   & \\mbox{subject to}  & S\\cdot v = 0  & \\text{Balanced steady-state} \\\\\n",
    "   & & 0 \\leq v  & \\text{Irreversible reactions}\\\\\n",
    "   & & v_1 \\leq 10 & \\text{Uptake rate is 10 } \\frac{mmol}{hour} \\\\\n",
    "   & & v_3 \\leq 0  & \\text{Genetic perturbation} \\\\\n",
    "   & & v_5 \\leq 5  & \\text{Low $E$-robic environmental condition} \\\\\n",
    "   & & v_8 = i & \\text{Growth rate is } i \\frac{mmol}{gDW/hour} \\\\\n",
    "\\end{array}$$\n",
    "\n"
   ]
  },
  {
   "cell_type": "code",
   "execution_count": null,
   "metadata": {
    "ExecuteTime": {
     "end_time": "2019-05-01T20:36:35.496585Z",
     "start_time": "2019-05-01T20:36:35.427044Z"
    }
   },
   "outputs": [],
   "source": [
    "%matplotlib inline\n",
    "from cameo.flux_analysis import phenotypic_phase_plane as production_envelope\n",
    "\n",
    "abc_model = cobra.io.load_json_model('ABC/ABC_model.json')  # Stoichiometric matrix loaded\n",
    "for rxn in abc_model.reactions:\n",
    "    rxn.lower_bound = 0                                     # Irreversible reactions\n",
    "abc_model.reactions.R_1.upper_bound = 10                    # Uptake rate is 10 mmol/hour\n",
    "abc_model.reactions.R_3.upper_bound = 0                     # Genetic perturbation\n",
    "abc_model.reactions.R_5.upper_bound = 5                     # Low E-robic environmental condition\n",
    "\n",
    "result = production_envelope( abc_model,\n",
    "                              variables=[abc_model.reactions.R_8],  # Growth rate is i mmol/gDW/hour\n",
    "                              objective=abc_model.reactions.R_9,    # Engineering objective (bioproduct)\n",
    "                              points=21 )    \n",
    "\n",
    "result_df = result.data_frame.rename(columns=dict(R_8='growth_rate',\n",
    "                                objective_upper_bound='bioproduct_maximum',\n",
    "                                objective_lower_bound='bioproduct_minimum'))\n",
    "result.plot(title='Gene knockout solution on the production envelope')"
   ]
  },
  {
   "cell_type": "markdown",
   "metadata": {},
   "source": [
    "## What if we vary E and D simultaneously?\n",
    "\n",
    "Of course, we made a good guess as to what the $E$-robicity should be. But what if we weren't so certain?  Can we search for the optimal level of $E$ across many different growth conditions?\n",
    "\n",
    "$$\\begin{array}{ll}\n",
    "\\text{For } i=0..20 & & & & \\\\\n",
    "\\ \\ \\text{   For } j=0..20 & & & & \\\\\n",
    "  &  \\underset{\\vec{\\bf v}}{\\mbox{maximize/minimize}}   & v_{9}   & \\text{Engineering objective (bioproduct)} \\\\\n",
    "   & \\mbox{subject to}  & S\\cdot v = 0  & \\text{Balanced steady-state} \\\\\n",
    "   & & 0 \\leq v  & \\text{Irreversible reactions}\\\\\n",
    "   & & v_1 \\leq 10 & \\text{Uptake rate is 10 } \\frac{mmol}{hour} \\\\\n",
    "   & & v_3 \\leq 0  & \\text{Genetic perturbation} \\\\\n",
    "   & & v_5 \\leq j  & \\text{$E$-robic environmental condition is } j \\frac{mmol}{hour} \\\\\n",
    "   & & v_8 = i & \\text{Growth rate is } i \\frac{mmol}{gDW/hour} \\\\\n",
    "\\end{array}$$\n",
    "\n"
   ]
  },
  {
   "cell_type": "code",
   "execution_count": null,
   "metadata": {
    "ExecuteTime": {
     "end_time": "2019-05-01T20:33:14.568844Z",
     "start_time": "2019-05-01T20:32:31.021631Z"
    }
   },
   "outputs": [],
   "source": [
    "%matplotlib inline\n",
    "import cobra\n",
    "from cameo.flux_analysis import phenotypic_phase_plane as production_envelope\n",
    "\n",
    "abc_model = cobra.io.load_json_model('ABC/ABC_model.json')  # Stoichiometric matrix loaded\n",
    "for rxn in abc_model.reactions:\n",
    "    rxn.lower_bound = 0                                     # Irreversible reactions\n",
    "abc_model.reactions.R_1.upper_bound = 10                    # Uptake rate is 10 mmol/hour\n",
    "abc_model.reactions.R_3.upper_bound = 0                     # Genetic perturbation\n",
    "#abc_model.reactions.R_5.upper_bound = 5                     # Low E-robic environmental condition\n",
    "\n",
    "result = production_envelope( abc_model,\n",
    "                              variables=[abc_model.reactions.R_8,\n",
    "                                        abc_model.reactions.R_5],  # Growth rate is i mmol/gDW/hour\n",
    "                              objective=abc_model.reactions.R_9,    # Engineering objective (bioproduct)\n",
    "                              points=150 )    \n",
    "\n",
    "result_df = result.data_frame.rename(columns=dict(R_8='growth_rate',\n",
    "                                objective_upper_bound='bioproduct_maximum',\n",
    "                                objective_lower_bound='bioproduct_minimum'))\n",
    "result.plot(title='Gene knockout solution on the production envelope')"
   ]
  },
  {
   "cell_type": "markdown",
   "metadata": {},
   "source": [
    "How much bioproduct ($F$) flux do we get per carbon source ($A$)?  How much does growth rate increase compared to the case where we are maximizing bioproduct yield?  Is this a reasonable tradeoff?"
   ]
  },
  {
   "cell_type": "markdown",
   "metadata": {},
   "source": [
    "# Using Flux variability analysis to study the steady-state behavior\n",
    "A number of cell factory design algorithms use flux variablity analysis (FVA) as a pre-processing step, so it is worth taking some time to understand the problem it is designed to solve, how it works, and what you can do with it.\n",
    "\n",
    "## How does FVA work?\n",
    "\n",
    "\n",
    "Conceptually, FVA works by looping through each reaction in the network, and solving for the maximum flux and then solving for the minimum flux associated with that reaction. \n",
    "\n",
    "$$\\begin{array}{lll}\n",
    "\\text{for $i$ in $1..n$} & \\\\\n",
    "&    \\underset{\\vec{v}}{\\mbox{minimize}}   & v_{i} \\\\\n",
    "&    \\mbox{subject to}  & S\\cdot \\vec{v} = 0 \\\\\n",
    "&    & 0 \\leq \\vec{v}  \\\\\n",
    "&    & v_1 \\leq 10 \\\\\n",
    "&    \\underset{\\vec{v}}{\\mbox{maximize}}   & v_{i} \\\\\n",
    "&    \\mbox{subject to}  & S\\cdot \\vec{v} = 0 \\\\\n",
    "&    & 0 \\leq \\vec{v}  \\\\\n",
    "&    & v_1 \\leq 10 \\\\\n",
    "\\end{array}$$"
   ]
  },
  {
   "cell_type": "code",
   "execution_count": null,
   "metadata": {
    "ExecuteTime": {
     "end_time": "2019-05-01T07:41:40.243790Z",
     "start_time": "2019-05-01T07:41:40.238401Z"
    }
   },
   "outputs": [],
   "source": [
    "import pandas as pd\n",
    "\n",
    "def fva( model ):\n",
    "    fva = {'minimum':{},\n",
    "           'maximum':{}}\n",
    "    for reaction in model.reactions:\n",
    "        with model:\n",
    "            model.objective = {reaction: -1}\n",
    "            fva['minimum'][reaction.id] = model.slim_optimize()\n",
    "        with model:\n",
    "            model.objective = {reaction: 1}\n",
    "            fva['maximum'][reaction.id] =  model.slim_optimize()\n",
    "    return pd.DataFrame(fva)[['minimum','maximum']]"
   ]
  },
  {
   "cell_type": "markdown",
   "metadata": {},
   "source": [
    "## What does flux variablity analysis do?\n",
    "Although each reaction has explicit lower and upper bounds, sometimes the constraint on one reaction imposes implicit constraints on other reactions.  Flux variability analysis is an estimate of these implicit bounds.\n",
    "Why do I say an estimate?  Because the implicit bounds may actually be tighter than what flux variability analysis predicts.  This can be seen in the figure from [[Mahadevan 2003](#references)] \n",
    "![FVA](FVA.gif)\n",
    "\n",
    "As you can see, when there are only two fluxes, FVA forms the tightest rectangle around the actual solution, which is a polygon. FVA forms a parallelopiped around the actual solution, which is a polyhedra in 3 dimensions, and in general, FVA forms a hyperrectangle around the polytope in $n$ dimensions. The work required to find an exact solution, unfortunately, grows exponentially in the number of reactions, but for genome-scale models, FVA is usually good enough."
   ]
  },
  {
   "cell_type": "code",
   "execution_count": null,
   "metadata": {
    "ExecuteTime": {
     "end_time": "2019-05-01T18:45:43.382687Z",
     "start_time": "2019-05-01T18:45:43.352755Z"
    }
   },
   "outputs": [],
   "source": [
    "import escher\n",
    "import cobra\n",
    "abc_model =  cobra.io.load_json_model('ABC/ABC_model.json') \n",
    "abc_model.reactions.R_1.upper_bound=10\n",
    "abc_fva = fva(abc_model)\n",
    "display(abc_fva)\n",
    "escher.Builder(map_json='ABC/ABC_map.json',\n",
    "               model=abc_model,\n",
    "               reaction_data=abc_fva['maximum'].to_dict(),\n",
    "              ).display_in_notebook()\n",
    "\n",
    "    "
   ]
  }
 ],
 "metadata": {
  "anaconda-cloud": {},
  "kernelspec": {
   "display_name": "Cell factory design course",
   "language": "python",
   "name": "cell-factory-design-course"
  },
  "language_info": {
   "codemirror_mode": {
    "name": "ipython",
    "version": 3
   },
   "file_extension": ".py",
   "mimetype": "text/x-python",
   "name": "python",
   "nbconvert_exporter": "python",
   "pygments_lexer": "ipython3",
   "version": "3.6.0"
  },
  "toc": {
   "base_numbering": 1,
   "nav_menu": {},
   "number_sections": true,
   "sideBar": true,
   "skip_h1_title": false,
   "title_cell": "Table of Contents",
   "title_sidebar": "Contents",
   "toc_cell": true,
   "toc_position": {
    "height": "calc(100% - 180px)",
    "left": "10px",
    "top": "150px",
    "width": "165px"
   },
   "toc_section_display": true,
   "toc_window_display": false
  },
  "varInspector": {
   "cols": {
    "lenName": 16,
    "lenType": 16,
    "lenVar": 40
   },
   "kernels_config": {
    "python": {
     "delete_cmd_postfix": "",
     "delete_cmd_prefix": "del ",
     "library": "var_list.py",
     "varRefreshCmd": "print(var_dic_list())"
    },
    "r": {
     "delete_cmd_postfix": ") ",
     "delete_cmd_prefix": "rm(",
     "library": "var_list.r",
     "varRefreshCmd": "cat(var_dic_list()) "
    }
   },
   "types_to_exclude": [
    "module",
    "function",
    "builtin_function_or_method",
    "instance",
    "_Feature"
   ],
   "window_display": false
  }
 },
 "nbformat": 4,
 "nbformat_minor": 2
}
